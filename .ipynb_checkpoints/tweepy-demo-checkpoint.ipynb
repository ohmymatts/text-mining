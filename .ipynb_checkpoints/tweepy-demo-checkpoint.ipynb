{
 "cells": [
  {
   "cell_type": "markdown",
   "metadata": {},
   "source": [
    "Projeto de exemplo \\ referencia em text mining usando Tweepy"
   ]
  },
  {
   "cell_type": "code",
   "execution_count": 1,
   "metadata": {},
   "outputs": [],
   "source": [
    "import codecs, tweepy"
   ]
  },
  {
   "cell_type": "code",
   "execution_count": 2,
   "metadata": {},
   "outputs": [],
   "source": [
    "#Credenciais do twitter, claramente ocultadas após a publicação\n",
    "consumer_key = ''\n",
    "consumer_secret = ''\n",
    "access_token = ''\n",
    "acess_token_secret = ''\n",
    "\n",
    "#Criando a conexão com a API via rest\n",
    "autenticacao = tweepy.OAuthHandler(consumer_key, consumer_secret)\n",
    "autenticacao.set_access_token(access_token, acess_token_secret)\n",
    "api = api = tweepy.API(autenticacao)\n",
    "\n",
    "#criando uma busca sobre a Avanade\n",
    "resultados = api.search(q=\"Avanade\", lang= \"en\", result_type = \"recent\", count=1000)\n",
    "\n",
    "#salvando o resultado usando codec\n",
    "arquivo = codecs.open(\"avanade.txt\", \"w\", \"utf-8;\")\n",
    "\n",
    "for resultado in resultados:\n",
    "    arquivo.write(resultado.text)\n",
    "    arquivo.write(\"\\n\")\n",
    "arquivo.close()"
   ]
  }
 ],
 "metadata": {
  "kernelspec": {
   "display_name": "Python 3",
   "language": "python",
   "name": "python3"
  },
  "language_info": {
   "codemirror_mode": {
    "name": "ipython",
    "version": 3
   },
   "file_extension": ".py",
   "mimetype": "text/x-python",
   "name": "python",
   "nbconvert_exporter": "python",
   "pygments_lexer": "ipython3",
   "version": "3.5.4"
  }
 },
 "nbformat": 4,
 "nbformat_minor": 2
}
